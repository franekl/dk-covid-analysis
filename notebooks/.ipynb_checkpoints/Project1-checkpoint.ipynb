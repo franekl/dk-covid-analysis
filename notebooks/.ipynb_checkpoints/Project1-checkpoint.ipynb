{
 "cells": [
  {
   "cell_type": "code",
   "execution_count": null,
   "id": "57d0e43c-7f6e-49ba-980a-c8dc1d383050",
   "metadata": {},
   "outputs": [],
   "source": [
    "import pandas as pd\n",
    "import matplotlib as plt\n",
    "import folium\n",
    "import json"
   ]
  },
  {
   "cell_type": "code",
   "execution_count": null,
   "id": "170dd743-1905-4f1a-bc3f-098a5e569757",
   "metadata": {},
   "outputs": [],
   "source": [
    "df = pd.read_csv(\"../data/raw/weather/weather.csv\")"
   ]
  },
  {
   "cell_type": "code",
   "execution_count": null,
   "id": "0429b231-d91e-440b-bc06-5b77cf328e2f",
   "metadata": {},
   "outputs": [],
   "source": [
    "df.head()"
   ]
  },
  {
   "cell_type": "code",
   "execution_count": null,
   "id": "b9b5e70c-e6d4-4564-9de5-80f5a3668cb7",
   "metadata": {},
   "outputs": [],
   "source": [
    "df.shape"
   ]
  },
  {
   "cell_type": "code",
   "execution_count": null,
   "id": "4e7168c3-4574-4e89-bfef-29e1bc33a438",
   "metadata": {},
   "outputs": [],
   "source": [
    "df.isna().any().any()"
   ]
  },
  {
   "cell_type": "code",
   "execution_count": null,
   "id": "508981da-5f9c-4ead-bbf7-e284fc8a7fa4",
   "metadata": {},
   "outputs": [],
   "source": [
    "df.eq(0).any()"
   ]
  },
  {
   "cell_type": "code",
   "execution_count": null,
   "id": "1f2b7a75-0d22-4fd2-84f3-9fd4b52d8877",
   "metadata": {},
   "outputs": [],
   "source": [
    "df[\"TemperatureAboveGround\"] -= 273.15"
   ]
  },
  {
   "cell_type": "code",
   "execution_count": null,
   "id": "5327474c-a539-48bd-adbc-2db17825e2b7",
   "metadata": {},
   "outputs": [],
   "source": [
    "df.head()"
   ]
  },
  {
   "cell_type": "code",
   "execution_count": null,
   "id": "b99e6c31-7e3b-4a28-84b5-0eae6c338759",
   "metadata": {},
   "outputs": [],
   "source": [
    "#df_zero = df[df[\"SolarRadiation\"].eq(0) == True  df[\"Totalprecipitation\"].eq(0) == True or df[\"UVIndex\"].eq(0) == True ]"
   ]
  },
  {
   "cell_type": "code",
   "execution_count": null,
   "id": "42fe9321-dd43-4f5c-adf9-c52ae6c8df12",
   "metadata": {},
   "outputs": [],
   "source": [
    "df_denmark =df.loc[df[\"iso3166-2\"].str.slice(stop=2)==\"DK\"]\n",
    "df_denmark.head()"
   ]
  },
  {
   "cell_type": "code",
   "execution_count": null,
   "id": "b4a4041b-a2b4-46c5-877d-7718bfbcadb7",
   "metadata": {},
   "outputs": [],
   "source": [
    "df_denmark[\"iso3166-2\"].unique()"
   ]
  },
  {
   "cell_type": "code",
   "execution_count": null,
   "id": "51290d3a-9849-4edb-b180-9897fe83a191",
   "metadata": {},
   "outputs": [],
   "source": [
    "df_grouped = df_denmark.groupby([\"iso3166-2\", \"date\"]).agg([\"min\",\"mean\", \"median\", \"max\"])"
   ]
  },
  {
   "cell_type": "code",
   "execution_count": null,
   "id": "b8d3807f-e5d5-4c72-9496-03fa629c6b6d",
   "metadata": {},
   "outputs": [],
   "source": [
    "df_grouped"
   ]
  },
  {
   "cell_type": "code",
   "execution_count": null,
   "id": "96d0be13-5401-4c98-b118-5b129d731a64",
   "metadata": {},
   "outputs": [],
   "source": [
    "df_denmark.plot(x=\"date\", y=\"TemperatureAboveGround\", figsize=(10,5), rot=90)\n"
   ]
  },
  {
   "cell_type": "code",
   "execution_count": null,
   "id": "0ec1f071-43d5-4087-93f1-25a52f5f74e8",
   "metadata": {},
   "outputs": [],
   "source": [
    "# df_group.plot(x=\"\", y=\""
   ]
  },
  {
   "cell_type": "code",
   "execution_count": null,
   "id": "0f49338e",
   "metadata": {},
   "outputs": [],
   "source": [
    "geo_json_path = '../data/raw/corona/dk.geojson'\n",
    "corona_df = pd.read_csv(\"../data/raw/corona/dk_corona.csv\", sep = \"\\t\")\n",
    "\n",
    "with open(\"../data/raw/corona/dk_metadata.json\", \"r\") as f:\n",
    "    country_metadata = json.load(f)"
   ]
  },
  {
   "cell_type": "code",
   "execution_count": null,
   "id": "02cd81a5",
   "metadata": {},
   "outputs": [],
   "source": [
    "m = folium.Map(location = [56.1,10.1], zoom_start = 7, crs = \"EPSG3857\")\n",
    "\n",
    "m"
   ]
  },
  {
   "cell_type": "code",
   "execution_count": null,
   "id": "cf9facbb",
   "metadata": {},
   "outputs": [],
   "source": [
    "region_map = {country_metadata[\"country_metadata\"][i][\"covid_region_code\"]: country_metadata[\"country_metadata\"][i][\"iso3166-2_code\"] for i in range(len(country_metadata[\"country_metadata\"]))}\n",
    "\n",
    "corona_df[\"region\"] = corona_df[\"region_code\"].map(region_map)\n",
    "\n",
    "corona_df_by_region = corona_df.groupby(by = 'region')[\"hospitalized_addition\"].sum().reset_index()\n",
    "\n",
    "population_map = {country_metadata[\"country_metadata\"][i][\"iso3166-2_code\"]: country_metadata[\"country_metadata\"][i][\"population\"] for i in range(len(country_metadata[\"country_metadata\"]))}\n",
    "\n",
    "corona_df_by_region[\"population\"] = corona_df_by_region[\"region\"].map(population_map)\n",
    "\n",
    "corona_df_by_region"
   ]
  },
  {
   "cell_type": "code",
   "execution_count": null,
   "id": "badb3ef4",
   "metadata": {},
   "outputs": [],
   "source": [
    "m_cases = folium.Map(location = [56, 10], zoom_start = 7)\n",
    "\n",
    "folium.Choropleth(\n",
    "    geo_data = geo_json_path,\n",
    "    name = 'cases',\n",
    "    data = corona_df_by_region,\n",
    "    columns = [\"region\", \"hospitalized_addition\"],\n",
    "    key_on = \"properties.iso_3166_2\",\n",
    "    fill_color = \"OrRd\",\n",
    "    fill_opacity = 0.7,\n",
    "    line_opacity = 0.2,\n",
    "    legend_name = \"Hospitalized\",\n",
    ").add_to(m_cases)\n",
    "    "
   ]
  },
  {
   "cell_type": "code",
   "execution_count": null,
   "id": "b8bc810e",
   "metadata": {},
   "outputs": [],
   "source": [
    "m_cases"
   ]
  },
  {
   "cell_type": "code",
   "execution_count": null,
   "id": "0ecec7d8",
   "metadata": {},
   "outputs": [],
   "source": []
  }
 ],
 "metadata": {
  "kernelspec": {
   "display_name": "Python 3 (ipykernel)",
   "language": "python",
   "name": "python3"
  },
  "language_info": {
   "codemirror_mode": {
    "name": "ipython",
    "version": 3
   },
   "file_extension": ".py",
   "mimetype": "text/x-python",
   "name": "python",
   "nbconvert_exporter": "python",
   "pygments_lexer": "ipython3",
   "version": "3.9.7"
  }
 },
 "nbformat": 4,
 "nbformat_minor": 5
}
